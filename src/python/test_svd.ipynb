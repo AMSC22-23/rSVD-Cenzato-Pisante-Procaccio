{
 "cells": [
  {
   "cell_type": "markdown",
   "metadata": {},
   "source": [
    "TESTING for the SVD algorithms"
   ]
  },
  {
   "cell_type": "code",
   "execution_count": null,
   "metadata": {},
   "outputs": [],
   "source": [
    "import scipy.linalg as la\n",
    "import numpy as np"
   ]
  },
  {
   "cell_type": "markdown",
   "metadata": {},
   "source": [
    "Some matrices used for tests"
   ]
  },
  {
   "cell_type": "code",
   "execution_count": null,
   "metadata": {},
   "outputs": [],
   "source": [
    "A = np.array([[4, 3, 2, 1],\n",
    "            [3, 4, 3, 2],\n",
    "            [2, 3, 4, 3],\n",
    "            [1, 2, 3, 4]])"
   ]
  },
  {
   "cell_type": "code",
   "execution_count": null,
   "metadata": {},
   "outputs": [],
   "source": [
    "A = np.array([[0.8147, 0.0975, 0.1576],\n",
    "        [0.9058, 0.2785, 0.9706],\n",
    "        [0.1270, 0.5469, 0.9572],\n",
    "        [0.9134, 0.9575, 0.4854],\n",
    "        [0.6324, 0.9649, 0.8003]])"
   ]
  },
  {
   "cell_type": "markdown",
   "metadata": {},
   "source": [
    "Testing for the QR algorithm"
   ]
  },
  {
   "cell_type": "code",
   "execution_count": null,
   "metadata": {},
   "outputs": [],
   "source": [
    "B = A.T @ A\n",
    "U = np.identity(4)\n",
    "for i in range(20):\n",
    "    [Q,R] = la.qr(A)\n",
    "    B = R @ Q\n",
    "    V =V @ Q\n",
    "    print(R)\n",
    "    print(Q)\n",
    "    print(A)"
   ]
  },
  {
   "cell_type": "markdown",
   "metadata": {},
   "source": [
    "The SVD decomposition using numpy"
   ]
  },
  {
   "cell_type": "code",
   "execution_count": null,
   "metadata": {},
   "outputs": [],
   "source": [
    "U, s, VT = np.linalg.svd(A)\n",
    "print('U shape: ', U.shape)\n",
    "print('s shape: ', s.shape)\n",
    "print('VT shape: ', VT.shape)\n",
    "\n",
    "print('U : ', U)\n",
    "print('s : ', s)\n",
    "print('V : ', VT.transpose())"
   ]
  },
  {
   "cell_type": "markdown",
   "metadata": {},
   "source": [
    "Now to see the error of the svd using numpy"
   ]
  },
  {
   "cell_type": "code",
   "execution_count": null,
   "metadata": {},
   "outputs": [],
   "source": [
    "S = la.diagsvd(s, A.shape[0], A.shape[1])\n",
    "\n",
    "A_svd = np.matmul(U, np.matmul(S,VT))\n",
    "#A_svd= U @ S @ VT\n",
    "print('err: %e' % (la.norm(A - A_svd) / la.norm(A)))"
   ]
  }
 ],
 "metadata": {
  "language_info": {
   "name": "python"
  }
 },
 "nbformat": 4,
 "nbformat_minor": 2
}
